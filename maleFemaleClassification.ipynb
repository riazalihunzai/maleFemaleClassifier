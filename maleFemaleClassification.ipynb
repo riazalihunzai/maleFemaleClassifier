{
 "cells": [
  {
   "cell_type": "code",
   "execution_count": 42,
   "id": "de32fd37",
   "metadata": {},
   "outputs": [],
   "source": [
    "import numpy as np\n",
    "import os\n",
    "import cv2 as cv\n",
    "from  matplotlib import pyplot as plt\n",
    "import matplotlib.image as mpimg\n",
    "%matplotlib inline\n",
    "from sklearn.model_selection import train_test_split\n",
    "import tensorflow as tf\n",
    "from tensorflow import keras\n",
    "from tensorflow.keras.layers import  Conv2D,Dense, Input, InputLayer, Flatten,Activation\n",
    "from tensorflow.keras.models import Sequential, Model\n",
    "from tensorflow.keras.utils import plot_model\n",
    "import pydot_ng as pydot\n",
    "from sklearn.metrics import classification_report\n",
    "from sklearn.metrics import confusion_matrix\n",
    "import seaborn as sn"
   ]
  },
  {
   "cell_type": "code",
   "execution_count": 13,
   "id": "30b1b7f8",
   "metadata": {},
   "outputs": [],
   "source": [
    "### Hyperparamters\n",
    "IMGH=200\n",
    "IMGW=200\n",
    "EPOCHS=5\n",
    "BATCHSIZE=512\n",
    "datasetFolder=r'dataset'\n",
    "os.environ[\"CUDA_DEVICE_ORDER\"]=\"PCI_BUS_ID\"\n",
    "os.environ[\"CUDA_VISIBLE_DEVICES\"]=\"/device:GPU:0\" "
   ]
  },
  {
   "cell_type": "code",
   "execution_count": 14,
   "id": "5f1c4224",
   "metadata": {},
   "outputs": [],
   "source": [
    "## Importing data\n",
    "imgData=[]\n",
    "labels=[]\n",
    "for folder in os.listdir(datasetFolder):\n",
    "    for filename in os.listdir(os.path.join(datasetFolder,folder)):\n",
    "        imagePath=os.path.join(datasetFolder,folder,filename)\n",
    "        image=cv.imread(imagePath,cv.COLOR_BGR2RGB)\n",
    "        image=cv.resize(image, (IMGH, IMGW),interpolation = cv.INTER_AREA)\n",
    "        image=np.array(image)\n",
    "        image=image.astype('float32')\n",
    "        image=image/255\n",
    "        imgData.append(image)\n",
    "        labels.append(folder)"
   ]
  },
  {
   "cell_type": "code",
   "execution_count": 4,
   "id": "7d009530",
   "metadata": {},
   "outputs": [
    {
     "name": "stdout",
     "output_type": "stream",
     "text": [
      "(200, 200, 3)\n",
      "['female', 'female', 'female', 'female', 'female', 'female', 'female', 'female', 'female', 'female']\n"
     ]
    },
    {
     "data": {
      "text/plain": [
       "[0]"
      ]
     },
     "execution_count": 4,
     "metadata": {},
     "output_type": "execute_result"
    }
   ],
   "source": [
    "print(imgData[0].shape)\n",
    "print(labels[0:10])\n",
    "target_dict={k: v for v, k in enumerate(np.unique(labels))}\n",
    "labels=  [target_dict[labels[i]] for i in range(len(labels))]\n",
    "labels[0:1]"
   ]
  },
  {
   "cell_type": "code",
   "execution_count": 5,
   "id": "30df8fa5",
   "metadata": {},
   "outputs": [],
   "source": [
    "## Train test split\n",
    "Xtrain,Xtest,yTrain,yTest=train_test_split(imgData,labels,random_state=0,test_size=0.33)"
   ]
  },
  {
   "cell_type": "code",
   "execution_count": 19,
   "id": "fe3e6e08",
   "metadata": {},
   "outputs": [],
   "source": [
    "target_dict={'male':0,'female':1}\n",
    "classNames=['male','female']"
   ]
  },
  {
   "cell_type": "code",
   "execution_count": 15,
   "id": "ed2c6aa0",
   "metadata": {},
   "outputs": [
    {
     "name": "stdout",
     "output_type": "stream",
     "text": [
      "Model: \"sequential_1\"\n",
      "_________________________________________________________________\n",
      " Layer (type)                Output Shape              Param #   \n",
      "=================================================================\n",
      " conv2d_2 (Conv2D)           (None, 99, 99, 32)        896       \n",
      "                                                                 \n",
      " conv2d_3 (Conv2D)           (None, 49, 49, 64)        18496     \n",
      "                                                                 \n",
      " flatten_1 (Flatten)         (None, 153664)            0         \n",
      "                                                                 \n",
      " dense_1 (Dense)             (None, 2)                 307330    \n",
      "                                                                 \n",
      " activation_1 (Activation)   (None, 2)                 0         \n",
      "                                                                 \n",
      "=================================================================\n",
      "Total params: 326,722\n",
      "Trainable params: 326,722\n",
      "Non-trainable params: 0\n",
      "_________________________________________________________________\n"
     ]
    }
   ],
   "source": [
    "### CNN\n",
    "model=keras.Sequential()\n",
    "model.add(InputLayer(input_shape=(IMGH,IMGW,3)))\n",
    "model.add(Conv2D(filters=32,kernel_size=3,strides=(2, 2), activation='relu'))\n",
    "model.add(Conv2D(filters=64, kernel_size=3, strides=(2, 2), activation='relu'))\n",
    "model.add(Flatten())\n",
    "model.add(Dense(2))\n",
    "model.add(Activation('sigmoid'))\n",
    "model.summary()"
   ]
  },
  {
   "cell_type": "code",
   "execution_count": 16,
   "id": "129d7ee4",
   "metadata": {},
   "outputs": [],
   "source": [
    "### Complie the model\n",
    "model.compile(optimizer='rmsprop', loss='sparse_categorical_crossentropy', metrics=['accuracy'])"
   ]
  },
  {
   "cell_type": "code",
   "execution_count": 17,
   "id": "725dffe5",
   "metadata": {},
   "outputs": [
    {
     "name": "stdout",
     "output_type": "stream",
     "text": [
      "Epoch 1/5\n",
      "62/62 [==============================] - 145s 2s/step - loss: 1.0577 - accuracy: 0.6737 - val_loss: 0.4942 - val_accuracy: 0.7686\n",
      "Epoch 2/5\n",
      "62/62 [==============================] - 141s 2s/step - loss: 0.4432 - accuracy: 0.8066 - val_loss: 0.3358 - val_accuracy: 0.8653\n",
      "Epoch 3/5\n",
      "62/62 [==============================] - 141s 2s/step - loss: 0.4881 - accuracy: 0.8384 - val_loss: 0.2867 - val_accuracy: 0.8907\n",
      "Epoch 4/5\n",
      "62/62 [==============================] - 142s 2s/step - loss: 0.3820 - accuracy: 0.8543 - val_loss: 0.3027 - val_accuracy: 0.8906\n",
      "Epoch 5/5\n",
      "62/62 [==============================] - 148s 2s/step - loss: 0.3032 - accuracy: 0.8815 - val_loss: 0.2994 - val_accuracy: 0.8869\n"
     ]
    },
    {
     "data": {
      "text/plain": [
       "<keras.callbacks.History at 0x2234bf20550>"
      ]
     },
     "execution_count": 17,
     "metadata": {},
     "output_type": "execute_result"
    }
   ],
   "source": [
    "### Training \n",
    "model.fit(x=np.array(Xtrain),y=np.array(yTrain),validation_data=(np.array(Xtest),np.array(yTest)),epochs=EPOCHS,batch_size=BATCHSIZE,verbose=1)"
   ]
  },
  {
   "cell_type": "code",
   "execution_count": 20,
   "id": "926a7439",
   "metadata": {},
   "outputs": [],
   "source": [
    "yPred=model.predict(np.array(Xtest))"
   ]
  },
  {
   "cell_type": "code",
   "execution_count": 33,
   "id": "fbf8e608",
   "metadata": {},
   "outputs": [],
   "source": [
    "yPred=np.argmax(yPred,axis=1)"
   ]
  },
  {
   "cell_type": "code",
   "execution_count": 35,
   "id": "2b21061a",
   "metadata": {},
   "outputs": [
    {
     "name": "stdout",
     "output_type": "stream",
     "text": [
      "              precision    recall  f1-score   support\n",
      "\n",
      "        male       0.96      0.80      0.88      7654\n",
      "      female       0.84      0.97      0.90      7859\n",
      "\n",
      "    accuracy                           0.89     15513\n",
      "   macro avg       0.90      0.89      0.89     15513\n",
      "weighted avg       0.90      0.89      0.89     15513\n",
      "\n"
     ]
    }
   ],
   "source": [
    "print(classification_report(np.array(yTest), yPred, target_names=classNames))"
   ]
  },
  {
   "cell_type": "code",
   "execution_count": 43,
   "id": "dd18e225",
   "metadata": {},
   "outputs": [],
   "source": [
    "df=confusion_matrix(np.array(yTest), yPred,labels=[0,1])"
   ]
  },
  {
   "cell_type": "code",
   "execution_count": 44,
   "id": "2e27abac",
   "metadata": {},
   "outputs": [
    {
     "data": {
      "image/png": "[encoded data removed]",
      "text/plain": [
       "<Figure size 432x288 with 2 Axes>"
      ]
     },
     "metadata": {},
     "output_type": "display_data"
    }
   ],
   "source": [
    "sn.set(font_scale=1.4) # for label size\n",
    "sn.heatmap(df, annot=True, annot_kws={\"size\": 16}) # font size\n",
    "\n",
    "plt.show()"
   ]
  },
  {
   "cell_type": "code",
   "execution_count": null,
   "id": "53628601",
   "metadata": {},
   "outputs": [],
   "source": []
  },
  {
   "cell_type": "code",
   "execution_count": null,
   "id": "436dcb83",
   "metadata": {},
   "outputs": [],
   "source": []
  },
  {
   "cell_type": "code",
   "execution_count": null,
   "id": "413bb78c",
   "metadata": {},
   "outputs": [],
   "source": []
  },
  {
   "cell_type": "code",
   "execution_count": null,
   "id": "bb181c14",
   "metadata": {},
   "outputs": [],
   "source": [
    "tf.test.is_built_with_cuda()"
   ]
  },
  {
   "cell_type": "code",
   "execution_count": 12,
   "id": "eece3bb9",
   "metadata": {},
   "outputs": [
    {
     "name": "stdout",
     "output_type": "stream",
     "text": [
      "WARNING:tensorflow:From C:\\Users\\MACHIN~1\\AppData\\Local\\Temp/ipykernel_12224/565982385.py:1: is_gpu_available (from tensorflow.python.framework.test_util) is deprecated and will be removed in a future version.\n",
      "Instructions for updating:\n",
      "Use `tf.config.list_physical_devices('GPU')` instead.\n"
     ]
    },
    {
     "data": {
      "text/plain": [
       "True"
      ]
     },
     "execution_count": 12,
     "metadata": {},
     "output_type": "execute_result"
    }
   ],
   "source": [
    "tf.test.is_gpu_available(cuda_only=False, min_cuda_compute_capability=None)"
   ]
  },
  {
   "cell_type": "code",
   "execution_count": 13,
   "id": "8064d09c",
   "metadata": {},
   "outputs": [
    {
     "name": "stdout",
     "output_type": "stream",
     "text": [
      "Num GPUs Available:  1\n"
     ]
    }
   ],
   "source": [
    "print(\"Num GPUs Available: \", len(tf.config.list_physical_devices('GPU')))"
   ]
  },
  {
   "cell_type": "code",
   "execution_count": 15,
   "id": "285b6299",
   "metadata": {},
   "outputs": [
    {
     "name": "stdout",
     "output_type": "stream",
     "text": [
      "['/device:CPU:0', '/device:GPU:0']\n"
     ]
    }
   ],
   "source": [
    "from tensorflow.python.client import device_lib\n",
    "\n",
    "def get_available_devices():\n",
    "    local_device_protos = device_lib.list_local_devices()\n",
    "    return [x.name for x in local_device_protos]\n",
    "\n",
    "print(get_available_devices())"
   ]
  },
  {
   "cell_type": "code",
   "execution_count": 16,
   "id": "624e319d",
   "metadata": {},
   "outputs": [
    {
     "data": {
      "text/plain": [
       "True"
      ]
     },
     "execution_count": 16,
     "metadata": {},
     "output_type": "execute_result"
    }
   ],
   "source": [
    "tf.test.is_built_with_cuda()"
   ]
  },
  {
   "cell_type": "code",
   "execution_count": null,
   "id": "2d1b26ab",
   "metadata": {},
   "outputs": [],
   "source": []
  }
 ],
 "metadata": {
  "kernelspec": {
   "display_name": "gpu",
   "language": "python",
   "name": "gpu"
  },
  "language_info": {
   "codemirror_mode": {
    "name": "ipython",
    "version": 3
   },
   "file_extension": ".py",
   "mimetype": "text/x-python",
   "name": "python",
   "nbconvert_exporter": "python",
   "pygments_lexer": "ipython3",
   "version": "3.9.7"
  }
 },
 "nbformat": 4,
 "nbformat_minor": 5
}
